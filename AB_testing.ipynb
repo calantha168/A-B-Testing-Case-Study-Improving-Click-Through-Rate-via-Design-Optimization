{
 "cells": [
  {
   "cell_type": "code",
   "execution_count": 1,
   "id": "dead61db-20ed-4eed-b675-24e1b05b76a4",
   "metadata": {},
   "outputs": [],
   "source": [
    "import numpy as np\n",
    "import pandas as pd"
   ]
  },
  {
   "cell_type": "code",
   "execution_count": 2,
   "id": "e20baf53-bb91-4ba4-9071-4d2865f38a32",
   "metadata": {},
   "outputs": [
    {
     "name": "stdout",
     "output_type": "stream",
     "text": [
      "Requirement already satisfied: statsmodels in d:\\users\\calan\\anaconda3\\lib\\site-packages (0.14.4)\n",
      "Requirement already satisfied: numpy<3,>=1.22.3 in d:\\users\\calan\\anaconda3\\lib\\site-packages (from statsmodels) (2.1.3)\n",
      "Requirement already satisfied: scipy!=1.9.2,>=1.8 in d:\\users\\calan\\anaconda3\\lib\\site-packages (from statsmodels) (1.15.3)\n",
      "Requirement already satisfied: pandas!=2.1.0,>=1.4 in d:\\users\\calan\\anaconda3\\lib\\site-packages (from statsmodels) (2.2.3)\n",
      "Requirement already satisfied: patsy>=0.5.6 in d:\\users\\calan\\anaconda3\\lib\\site-packages (from statsmodels) (1.0.1)\n",
      "Requirement already satisfied: packaging>=21.3 in d:\\users\\calan\\anaconda3\\lib\\site-packages (from statsmodels) (24.2)\n",
      "Requirement already satisfied: python-dateutil>=2.8.2 in d:\\users\\calan\\anaconda3\\lib\\site-packages (from pandas!=2.1.0,>=1.4->statsmodels) (2.9.0.post0)\n",
      "Requirement already satisfied: pytz>=2020.1 in d:\\users\\calan\\anaconda3\\lib\\site-packages (from pandas!=2.1.0,>=1.4->statsmodels) (2024.1)\n",
      "Requirement already satisfied: tzdata>=2022.7 in d:\\users\\calan\\anaconda3\\lib\\site-packages (from pandas!=2.1.0,>=1.4->statsmodels) (2025.2)\n",
      "Requirement already satisfied: six>=1.5 in d:\\users\\calan\\anaconda3\\lib\\site-packages (from python-dateutil>=2.8.2->pandas!=2.1.0,>=1.4->statsmodels) (1.17.0)\n"
     ]
    }
   ],
   "source": [
    "!pip install statsmodels\n"
   ]
  },
  {
   "cell_type": "code",
   "execution_count": 3,
   "id": "a41bc7b4-27ec-489d-95f3-8c825556ce7a",
   "metadata": {},
   "outputs": [],
   "source": [
    "from statsmodels.stats.power import NormalIndPower\n",
    "from statsmodels.stats.proportion import proportion_effectsize\n"
   ]
  },
  {
   "cell_type": "markdown",
   "id": "89a70fbd-49c2-4aba-b13e-302814a5cf5b",
   "metadata": {},
   "source": [
    "Step 1: check for the right sample size"
   ]
  },
  {
   "cell_type": "code",
   "execution_count": 4,
   "id": "ce3bbb35-efdd-42a4-a37c-91c5de2aa799",
   "metadata": {},
   "outputs": [],
   "source": [
    "#A/B test parameter\n",
    "p1 = 0.12    # Baseline conversion rate (Group A)\n",
    "p2 = 0.15    # Expected improvement (Group B)\n",
    "alpha = 0.05  # Significance level (5%)\n",
    "power = 0.80  # Power (80%)"
   ]
  },
  {
   "cell_type": "code",
   "execution_count": 5,
   "id": "e74bf1b3-380c-402b-b3ab-865608bffe1a",
   "metadata": {},
   "outputs": [],
   "source": [
    "# Effect size for proportion test\n",
    "effect_size = proportion_effectsize(p1, p2)"
   ]
  },
  {
   "cell_type": "code",
   "execution_count": 6,
   "id": "3883f4e5-a950-4a0a-94fb-e986949782a8",
   "metadata": {},
   "outputs": [],
   "source": [
    "#Power analysis\n",
    "analysis = NormalIndPower()\n",
    "required_n = int(np.ceil(analysis.solve_power(effect_size=effect_size, power=power, alpha=alpha)))"
   ]
  },
  {
   "cell_type": "code",
   "execution_count": 7,
   "id": "7f83a3fd-ed8a-4cc5-a9c9-5676918249cd",
   "metadata": {},
   "outputs": [
    {
     "name": "stdout",
     "output_type": "stream",
     "text": [
      "Required sample size per group: 2031\n"
     ]
    }
   ],
   "source": [
    "print(f\"Required sample size per group: {required_n}\")"
   ]
  },
  {
   "cell_type": "markdown",
   "id": "272696be-3b6a-44b1-85c8-86058a404bd8",
   "metadata": {},
   "source": [
    "Step 2: Stimulate A/B testing"
   ]
  },
  {
   "cell_type": "code",
   "execution_count": 8,
   "id": "bcf2cfb7-9949-4409-be29-3d08c290414c",
   "metadata": {},
   "outputs": [
    {
     "name": "stdout",
     "output_type": "stream",
     "text": [
      "A/B test dataset created and saved as 'ab_test_data.csv'\n",
      "   user_id group  clicked\n",
      "0        1     A        0\n",
      "1        2     A        1\n",
      "2        3     A        0\n",
      "3        4     A        0\n",
      "4        5     A        0\n"
     ]
    }
   ],
   "source": [
    "np.random.seed(42)\n",
    "\n",
    "n_users_per_group = required_n\n",
    "click_rate_A = p1\n",
    "click_rate_B = p2\n",
    "\n",
    "# Simulate binary clicks (1 = clicked, 0 = not clicked)\n",
    "group_A_clicks = np.random.binomial(1, click_rate_A, n_users_per_group)\n",
    "group_B_clicks = np.random.binomial(1, click_rate_B, n_users_per_group)\n",
    "\n",
    "# Create DataFrames\n",
    "df_A = pd.DataFrame({\n",
    "    'user_id': range(1, n_users_per_group + 1),\n",
    "    'group': 'A',\n",
    "    'clicked': group_A_clicks\n",
    "})\n",
    "\n",
    "df_B = pd.DataFrame({\n",
    "    'user_id': range(n_users_per_group + 1, 2 * n_users_per_group + 1),\n",
    "    'group': 'B',\n",
    "    'clicked': group_B_clicks\n",
    "})\n",
    "\n",
    "#combine two df \n",
    "df = pd.concat([df_A, df_B], ignore_index=True)\n",
    "\n",
    "# Save to CSV\n",
    "df.to_csv('ab_test_data.csv', index=False)\n",
    "\n",
    "print(\"A/B test dataset created and saved as 'ab_test_data.csv'\")\n",
    "print(df.head())"
   ]
  },
  {
   "cell_type": "code",
   "execution_count": 9,
   "id": "c7721502-7cdf-4261-bc56-38bec32e3206",
   "metadata": {},
   "outputs": [
    {
     "name": "stdout",
     "output_type": "stream",
     "text": [
      "user_id     int64\n",
      "group      object\n",
      "clicked     int32\n",
      "dtype: object\n"
     ]
    }
   ],
   "source": [
    "print(df.dtypes)"
   ]
  },
  {
   "cell_type": "markdown",
   "id": "9a5154b1-c466-4b08-815a-b9d209eee15b",
   "metadata": {},
   "source": [
    "Step 3: Analyze data"
   ]
  },
  {
   "cell_type": "code",
   "execution_count": 10,
   "id": "40e75dcb-215c-45f4-9b78-b85973acc821",
   "metadata": {},
   "outputs": [
    {
     "name": "stdout",
     "output_type": "stream",
     "text": [
      "group\n",
      "A    0.119153\n",
      "B    0.141802\n",
      "Name: clicked, dtype: float64\n"
     ]
    }
   ],
   "source": [
    "#Calculate the conversion rate for each group\n",
    "conversion_rate = df.groupby('group')['clicked'].mean()\n",
    "print(conversion_rate)"
   ]
  },
  {
   "cell_type": "code",
   "execution_count": 15,
   "id": "2a03587b-6629-48f4-adbc-3baed94484e7",
   "metadata": {},
   "outputs": [
    {
     "name": "stdout",
     "output_type": "stream",
     "text": [
      "       Z-Test Results:\n",
      "Z-statistic: -2.143\n",
      "P-value: 0.0321\n",
      "Statistically significant Group B performs better than Group A.\n"
     ]
    }
   ],
   "source": [
    "from statsmodels.stats.proportion import proportions_ztest\n",
    "\n",
    "\n",
    "#get click counts and total users for each group\n",
    "clicks = df.groupby('group')['clicked'].sum().values\n",
    "total_users = df.groupby('group')['clicked'].count().values \n",
    "\n",
    "# Run z-test for proportions\n",
    "z_stat, p_value = proportions_ztest(count=clicks, nobs=total_users)\n",
    "\n",
    "print(\"       Z-Test Results:\")\n",
    "print(f\"Z-statistic: {z_stat:.3f}\")\n",
    "print(f\"P-value: {p_value:.4f}\")\n",
    "\n",
    "# Interpretation\n",
    "alpha = 0.05\n",
    "if p_value < alpha:\n",
    "    print(\"Statistically significant Group B performs better than Group A.\")\n",
    "else:\n",
    "    print(\"Not statistically significant. No confident difference between A and B.\")"
   ]
  },
  {
   "cell_type": "markdown",
   "id": "f10db8f7-348a-4dd5-9caf-69cc2a0331b0",
   "metadata": {},
   "source": [
    "Step 3: Visualizing A/B Test Results"
   ]
  },
  {
   "cell_type": "code",
   "execution_count": 13,
   "id": "1de8d97c-fe3b-46b2-9539-cc366f3352a4",
   "metadata": {},
   "outputs": [
    {
     "data": {
      "image/png": "[encoded data removed]",
      "text/plain": [
       "<Figure size 1000x500 with 1 Axes>"
      ]
     },
     "metadata": {},
     "output_type": "display_data"
    }
   ],
   "source": [
    "import numpy as np\n",
    "import matplotlib.pyplot as plt\n",
    "import scipy.stats as stats\n",
    "\n",
    "# z-statistic from proportions_ztest\n",
    "z_stat = -2.1427894968763677\n",
    "\n",
    "# Critical z-value for 95% confidence (two-tailed test)\n",
    "alpha = 0.05\n",
    "z_crit = stats.norm.ppf(1 - alpha/2)\n",
    "\n",
    "# X values for standard normal distribution\n",
    "x = np.linspace(-4, 4, 1000)\n",
    "y = stats.norm.pdf(x)\n",
    "\n",
    "# Plot the normal distribution curve\n",
    "plt.figure(figsize=(10, 5))\n",
    "plt.plot(x, y, label='Standard Normal Distribution', color='navy')\n",
    "\n",
    "# Rejection region shading\n",
    "plt.fill_between(x, 0, y, where=(x <= -z_crit) | (x >= z_crit),\n",
    "                 color='red', alpha=0.3, label='Rejection Region (α = 0.05)')\n",
    "\n",
    "# Z-statistic line\n",
    "plt.axvline(z_stat, color='green', linestyle='--', linewidth=2, label=f'Z-statistic = {z_stat:.2f}')\n",
    "plt.axvline(-z_crit, color='red', linestyle=':', linewidth=1)\n",
    "plt.axvline(z_crit, color='red', linestyle=':', linewidth=1)\n",
    "\n",
    "# Labels and styling\n",
    "plt.title(\"Z-Test Visualization (Two-Tailed)\")\n",
    "plt.xlabel(\"Z-score\")\n",
    "plt.ylabel(\"Probability Density\")\n",
    "plt.legend()\n",
    "plt.grid(True)\n",
    "plt.tight_layout()\n",
    "plt.show()\n",
    "\n"
   ]
  },
  {
   "cell_type": "code",
   "execution_count": 14,
   "id": "0cfc6be1-08f9-4f91-84a0-51b9fb0fa3fc",
   "metadata": {},
   "outputs": [
    {
     "data": {
      "text/html": [
       "<div>\n",
       "<style scoped>\n",
       "    .dataframe tbody tr th:only-of-type {\n",
       "        vertical-align: middle;\n",
       "    }\n",
       "\n",
       "    .dataframe tbody tr th {\n",
       "        vertical-align: top;\n",
       "    }\n",
       "\n",
       "    .dataframe thead th {\n",
       "        text-align: right;\n",
       "    }\n",
       "</style>\n",
       "<table border=\"1\" class=\"dataframe\">\n",
       "  <thead>\n",
       "    <tr style=\"text-align: right;\">\n",
       "      <th></th>\n",
       "      <th>Group</th>\n",
       "      <th>Clicks</th>\n",
       "      <th>Total Users</th>\n",
       "      <th>Conversion Rate</th>\n",
       "    </tr>\n",
       "  </thead>\n",
       "  <tbody>\n",
       "    <tr>\n",
       "      <th>0</th>\n",
       "      <td>A</td>\n",
       "      <td>242</td>\n",
       "      <td>2031</td>\n",
       "      <td>11.92%</td>\n",
       "    </tr>\n",
       "    <tr>\n",
       "      <th>1</th>\n",
       "      <td>B</td>\n",
       "      <td>288</td>\n",
       "      <td>2031</td>\n",
       "      <td>14.180000000000001%</td>\n",
       "    </tr>\n",
       "  </tbody>\n",
       "</table>\n",
       "</div>"
      ],
      "text/plain": [
       "  Group  Clicks  Total Users      Conversion Rate\n",
       "0     A     242         2031               11.92%\n",
       "1     B     288         2031  14.180000000000001%"
      ]
     },
     "execution_count": 14,
     "metadata": {},
     "output_type": "execute_result"
    }
   ],
   "source": [
    "import pandas as pd\n",
    "\n",
    "summary = df.groupby('group')['clicked'].agg(\n",
    "    Clicks='sum',\n",
    "    Total_Users='count'\n",
    ").reset_index()\n",
    "\n",
    "summary['Conversion_Rate'] = (summary['Clicks'] / summary['Total_Users']).round(4)\n",
    "\n",
    "summary['Conversion_Rate'] = (summary['Conversion_Rate'] * 100).astype(str) + '%'\n",
    "\n",
    "summary.columns = ['Group', 'Clicks', 'Total Users', 'Conversion Rate']\n",
    "\n",
    "summary\n"
   ]
  }
 ],
 "metadata": {
  "kernelspec": {
   "display_name": "Python 3 (ipykernel)",
   "language": "python",
   "name": "python3"
  },
  "language_info": {
   "codemirror_mode": {
    "name": "ipython",
    "version": 3
   },
   "file_extension": ".py",
   "mimetype": "text/x-python",
   "name": "python",
   "nbconvert_exporter": "python",
   "pygments_lexer": "ipython3",
   "version": "3.13.5"
  }
 },
 "nbformat": 4,
 "nbformat_minor": 5
}
